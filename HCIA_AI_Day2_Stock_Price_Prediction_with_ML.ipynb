{
  "nbformat": 4,
  "nbformat_minor": 0,
  "metadata": {
    "colab": {
      "name": "HCIA-AI-Day2-Stock Price Prediction with ML.ipynb",
      "provenance": [],
      "collapsed_sections": [],
      "authorship_tag": "ABX9TyOP4Gemr1nC7qruzlvqGp+B",
      "include_colab_link": true
    },
    "kernelspec": {
      "name": "python3",
      "display_name": "Python 3"
    },
    "accelerator": "GPU"
  },
  "cells": [
    {
      "cell_type": "markdown",
      "metadata": {
        "id": "view-in-github",
        "colab_type": "text"
      },
      "source": [
        "<a href=\"https://colab.research.google.com/github/amornvitz/HCIA-AI/blob/main/HCIA_AI_Day2_Stock_Price_Prediction_with_ML.ipynb\" target=\"_parent\"><img src=\"https://colab.research.google.com/assets/colab-badge.svg\" alt=\"Open In Colab\"/></a>"
      ]
    },
    {
      "cell_type": "markdown",
      "metadata": {
        "id": "CdX2W_FPUcq8"
      },
      "source": [
        "#Project: Predict an equity price trend\n",
        "* To predict the price of Apple Incp (US Stock) based on the current close price.\n",
        "* Using the Long Short Term Memory (LSTM) Algorithm\n",
        "* Predict the closing price of a company, APPLE INC. based on the past 60 days of stock price."
      ]
    },
    {
      "cell_type": "code",
      "metadata": {
        "id": "WL8YDtDdUwda"
      },
      "source": [
        "import numpy as np\n",
        "import math\n",
        "import pandas_datareader as web\n",
        "import pandas as pd\n",
        "from sklearn.preprocessing import MinMaxScaler\n",
        "from keras.models import Sequential\n",
        "from keras.layers import Dense, LSTM\n",
        "import matplotlib.pyplot as plt\n",
        "plt.style.use('fivethirtyeight')"
      ],
      "execution_count": 1,
      "outputs": []
    },
    {
      "cell_type": "code",
      "metadata": {
        "id": "cGyV97N0V1Pl",
        "outputId": "284e2ff2-bc7b-49cf-bc71-f4efaafc7897",
        "colab": {
          "base_uri": "https://localhost:8080/",
          "height": 450
        }
      },
      "source": [
        "# Get the stock quote for APPLE INC. using the stock ticker AAPL form Jan 2012 to Oct 25 2020\n",
        "df = web.DataReader('AAPL', data_source='yahoo', start='2012-01-01', end='2020-10-25')\n",
        "# display the data\n",
        "df"
      ],
      "execution_count": 2,
      "outputs": [
        {
          "output_type": "execute_result",
          "data": {
            "text/html": [
              "<div>\n",
              "<style scoped>\n",
              "    .dataframe tbody tr th:only-of-type {\n",
              "        vertical-align: middle;\n",
              "    }\n",
              "\n",
              "    .dataframe tbody tr th {\n",
              "        vertical-align: top;\n",
              "    }\n",
              "\n",
              "    .dataframe thead th {\n",
              "        text-align: right;\n",
              "    }\n",
              "</style>\n",
              "<table border=\"1\" class=\"dataframe\">\n",
              "  <thead>\n",
              "    <tr style=\"text-align: right;\">\n",
              "      <th></th>\n",
              "      <th>High</th>\n",
              "      <th>Low</th>\n",
              "      <th>Open</th>\n",
              "      <th>Close</th>\n",
              "      <th>Volume</th>\n",
              "      <th>Adj Close</th>\n",
              "    </tr>\n",
              "    <tr>\n",
              "      <th>Date</th>\n",
              "      <th></th>\n",
              "      <th></th>\n",
              "      <th></th>\n",
              "      <th></th>\n",
              "      <th></th>\n",
              "      <th></th>\n",
              "    </tr>\n",
              "  </thead>\n",
              "  <tbody>\n",
              "    <tr>\n",
              "      <th>2012-01-03</th>\n",
              "      <td>14.732142</td>\n",
              "      <td>14.607142</td>\n",
              "      <td>14.621428</td>\n",
              "      <td>14.686786</td>\n",
              "      <td>302220800.0</td>\n",
              "      <td>12.691425</td>\n",
              "    </tr>\n",
              "    <tr>\n",
              "      <th>2012-01-04</th>\n",
              "      <td>14.810000</td>\n",
              "      <td>14.617143</td>\n",
              "      <td>14.642858</td>\n",
              "      <td>14.765715</td>\n",
              "      <td>260022000.0</td>\n",
              "      <td>12.759631</td>\n",
              "    </tr>\n",
              "    <tr>\n",
              "      <th>2012-01-05</th>\n",
              "      <td>14.948215</td>\n",
              "      <td>14.738214</td>\n",
              "      <td>14.819643</td>\n",
              "      <td>14.929643</td>\n",
              "      <td>271269600.0</td>\n",
              "      <td>12.901293</td>\n",
              "    </tr>\n",
              "    <tr>\n",
              "      <th>2012-01-06</th>\n",
              "      <td>15.098214</td>\n",
              "      <td>14.972143</td>\n",
              "      <td>14.991786</td>\n",
              "      <td>15.085714</td>\n",
              "      <td>318292800.0</td>\n",
              "      <td>13.036158</td>\n",
              "    </tr>\n",
              "    <tr>\n",
              "      <th>2012-01-09</th>\n",
              "      <td>15.276786</td>\n",
              "      <td>15.048214</td>\n",
              "      <td>15.196428</td>\n",
              "      <td>15.061786</td>\n",
              "      <td>394024400.0</td>\n",
              "      <td>13.015480</td>\n",
              "    </tr>\n",
              "    <tr>\n",
              "      <th>...</th>\n",
              "      <td>...</td>\n",
              "      <td>...</td>\n",
              "      <td>...</td>\n",
              "      <td>...</td>\n",
              "      <td>...</td>\n",
              "      <td>...</td>\n",
              "    </tr>\n",
              "    <tr>\n",
              "      <th>2020-10-19</th>\n",
              "      <td>120.419998</td>\n",
              "      <td>115.660004</td>\n",
              "      <td>119.959999</td>\n",
              "      <td>115.980003</td>\n",
              "      <td>120639300.0</td>\n",
              "      <td>115.980003</td>\n",
              "    </tr>\n",
              "    <tr>\n",
              "      <th>2020-10-20</th>\n",
              "      <td>118.980003</td>\n",
              "      <td>115.629997</td>\n",
              "      <td>116.199997</td>\n",
              "      <td>117.510002</td>\n",
              "      <td>124423700.0</td>\n",
              "      <td>117.510002</td>\n",
              "    </tr>\n",
              "    <tr>\n",
              "      <th>2020-10-21</th>\n",
              "      <td>118.709999</td>\n",
              "      <td>116.449997</td>\n",
              "      <td>116.669998</td>\n",
              "      <td>116.870003</td>\n",
              "      <td>89946000.0</td>\n",
              "      <td>116.870003</td>\n",
              "    </tr>\n",
              "    <tr>\n",
              "      <th>2020-10-22</th>\n",
              "      <td>118.040001</td>\n",
              "      <td>114.589996</td>\n",
              "      <td>117.449997</td>\n",
              "      <td>115.750000</td>\n",
              "      <td>101988000.0</td>\n",
              "      <td>115.750000</td>\n",
              "    </tr>\n",
              "    <tr>\n",
              "      <th>2020-10-23</th>\n",
              "      <td>116.550003</td>\n",
              "      <td>114.279999</td>\n",
              "      <td>116.389999</td>\n",
              "      <td>115.040001</td>\n",
              "      <td>82572600.0</td>\n",
              "      <td>115.040001</td>\n",
              "    </tr>\n",
              "  </tbody>\n",
              "</table>\n",
              "<p>2218 rows × 6 columns</p>\n",
              "</div>"
            ],
            "text/plain": [
              "                  High         Low  ...       Volume   Adj Close\n",
              "Date                                ...                         \n",
              "2012-01-03   14.732142   14.607142  ...  302220800.0   12.691425\n",
              "2012-01-04   14.810000   14.617143  ...  260022000.0   12.759631\n",
              "2012-01-05   14.948215   14.738214  ...  271269600.0   12.901293\n",
              "2012-01-06   15.098214   14.972143  ...  318292800.0   13.036158\n",
              "2012-01-09   15.276786   15.048214  ...  394024400.0   13.015480\n",
              "...                ...         ...  ...          ...         ...\n",
              "2020-10-19  120.419998  115.660004  ...  120639300.0  115.980003\n",
              "2020-10-20  118.980003  115.629997  ...  124423700.0  117.510002\n",
              "2020-10-21  118.709999  116.449997  ...   89946000.0  116.870003\n",
              "2020-10-22  118.040001  114.589996  ...  101988000.0  115.750000\n",
              "2020-10-23  116.550003  114.279999  ...   82572600.0  115.040001\n",
              "\n",
              "[2218 rows x 6 columns]"
            ]
          },
          "metadata": {
            "tags": []
          },
          "execution_count": 2
        }
      ]
    },
    {
      "cell_type": "code",
      "metadata": {
        "id": "xejl8zzqXxuS",
        "outputId": "5e14c589-e863-4981-99ac-d71269b0f73d",
        "colab": {
          "base_uri": "https://localhost:8080/",
          "height": 34
        }
      },
      "source": [
        "# display the shape of data\n",
        "df.shape"
      ],
      "execution_count": 3,
      "outputs": [
        {
          "output_type": "execute_result",
          "data": {
            "text/plain": [
              "(2218, 6)"
            ]
          },
          "metadata": {
            "tags": []
          },
          "execution_count": 3
        }
      ]
    },
    {
      "cell_type": "code",
      "metadata": {
        "id": "rIUAm08jYOsz",
        "outputId": "90ee2fb9-2719-46be-c0b6-093c4de14e2d",
        "colab": {
          "base_uri": "https://localhost:8080/",
          "height": 514
        }
      },
      "source": [
        "# visualize the record in the dataset in the form of a graph (for closing price history for APPLE INC.)\n",
        "plt.figure(figsize=(16,8))\n",
        "plt.title('Close Price History for APPLE INC.')\n",
        "plt.plot(df.Close)\n",
        "plt.xlabel('Date', fontsize = 18)\n",
        "plt.ylabel('Close Price in USD', fontsize = 18)\n",
        "plt.show()"
      ],
      "execution_count": 4,
      "outputs": [
        {
          "output_type": "display_data",
          "data": {
            "image/png": "[encoded data removed]",
            "text/plain": [
              "<Figure size 1152x576 with 1 Axes>"
            ]
          },
          "metadata": {
            "tags": [],
            "needs_background": "light"
          }
        }
      ]
    },
    {
      "cell_type": "markdown",
      "metadata": {
        "id": "jz0eLrsLaxR_"
      },
      "source": [
        "# **Data preprocessing**"
      ]
    },
    {
      "cell_type": "code",
      "metadata": {
        "id": "Mgph1SOmZJA_"
      },
      "source": [
        "# create a new dataframe for the close price.\n",
        "data = df.filter(['Close'])\n",
        "\n",
        "# converting the dataframe to numpy array\n",
        "dataset = data.values\n",
        "\n",
        "# decide the training and testing dataset -> 80%\n",
        "training_data_len = math.ceil(len(dataset)*.80)"
      ],
      "execution_count": 5,
      "outputs": []
    },
    {
      "cell_type": "code",
      "metadata": {
        "id": "lPOrY-VWaAbO"
      },
      "source": [
        "# Data Normalizing\n",
        "# Scale all the data to be values between 0 and 1\n",
        "scaler = MinMaxScaler(feature_range=(0,1))\n",
        "scaled_data = scaler.fit_transform(dataset)"
      ],
      "execution_count": 6,
      "outputs": []
    },
    {
      "cell_type": "code",
      "metadata": {
        "id": "HhFzrLYAbmeC"
      },
      "source": [
        "# Create the scale training dataset\n",
        "train_data = scaled_data[0:training_data_len,:]\n",
        "\n",
        "# Split the data into input and output dataset (x_train, y_train)\n",
        "x_train = []\n",
        "y_train = []\n",
        "\n",
        "# 60 is coming form 60 days.\n",
        "for i in range(60, len(train_data)):\n",
        "    x_train.append(train_data[i-60: i, 0])\n",
        "    y_train.append(train_data[i, 0])"
      ],
      "execution_count": 7,
      "outputs": []
    },
    {
      "cell_type": "code",
      "metadata": {
        "id": "-y58dBeidJAu"
      },
      "source": [
        "# Convert x_train and y_train to numpy arrays\n",
        "x_train, y_train = np.array(x_train), np.array(y_train)"
      ],
      "execution_count": 8,
      "outputs": []
    },
    {
      "cell_type": "code",
      "metadata": {
        "id": "2G9LATBJdVeI"
      },
      "source": [
        "# Reshape the data into 3-dimensional form (no of samples, no of time steps, no of features) the shape accepted by LSTM\n",
        "x_train = np.reshape(x_train, (x_train.shape[0], x_train.shape[1], 1))"
      ],
      "execution_count": 9,
      "outputs": []
    },
    {
      "cell_type": "markdown",
      "metadata": {
        "id": "YkBeJ0eienB7"
      },
      "source": [
        "# **Building the model**\n",
        "* Build LSTM model to have two LSTM layers with 50 neurons and two Dense layers, one with 25 neurons, and the other with 1 neuron"
      ]
    },
    {
      "cell_type": "code",
      "metadata": {
        "id": "uyhiQE70d0a4"
      },
      "source": [
        "# Build LSTM model\n",
        "model=Sequential()\n",
        "model.add(LSTM(units=50,return_sequences=True,input_shape=(x_train.shape[1],1)))\n",
        "model.add(LSTM(units=50,return_sequences=False))\n",
        "model.add(Dense(units=25))\n",
        "model.add(Dense(units=1))"
      ],
      "execution_count": 10,
      "outputs": []
    },
    {
      "cell_type": "code",
      "metadata": {
        "id": "fO-7WedLgpJQ"
      },
      "source": [
        "#Compile the LSTM model\n",
        "model.compile(optimizer='adam',loss='mean_squared_error')"
      ],
      "execution_count": 11,
      "outputs": []
    },
    {
      "cell_type": "code",
      "metadata": {
        "id": "CuwD9VmIgsFv",
        "outputId": "b4237ef9-942e-447b-ca40-cf0e004aac21",
        "colab": {
          "base_uri": "https://localhost:8080/",
          "height": 374
        }
      },
      "source": [
        "#Train the LSMT Model\n",
        "model.fit(x_train,y_train,batch_size=1,epochs=10)"
      ],
      "execution_count": 12,
      "outputs": [
        {
          "output_type": "stream",
          "text": [
            "Epoch 1/10\n",
            "1715/1715 [==============================] - 13s 7ms/step - loss: 2.7693e-04\n",
            "Epoch 2/10\n",
            "1715/1715 [==============================] - 13s 7ms/step - loss: 1.2625e-04\n",
            "Epoch 3/10\n",
            "1715/1715 [==============================] - 13s 8ms/step - loss: 1.0234e-04\n",
            "Epoch 4/10\n",
            "1715/1715 [==============================] - 13s 8ms/step - loss: 6.7514e-05\n",
            "Epoch 5/10\n",
            "1715/1715 [==============================] - 13s 8ms/step - loss: 7.1883e-05\n",
            "Epoch 6/10\n",
            "1715/1715 [==============================] - 13s 8ms/step - loss: 6.3743e-05\n",
            "Epoch 7/10\n",
            "1715/1715 [==============================] - 13s 8ms/step - loss: 6.0737e-05\n",
            "Epoch 8/10\n",
            "1715/1715 [==============================] - 13s 8ms/step - loss: 5.1309e-05\n",
            "Epoch 9/10\n",
            "1715/1715 [==============================] - 13s 8ms/step - loss: 5.7652e-05\n",
            "Epoch 10/10\n",
            "1715/1715 [==============================] - 14s 8ms/step - loss: 4.7652e-05\n"
          ],
          "name": "stdout"
        },
        {
          "output_type": "execute_result",
          "data": {
            "text/plain": [
              "<tensorflow.python.keras.callbacks.History at 0x7effd0086fd0>"
            ]
          },
          "metadata": {
            "tags": []
          },
          "execution_count": 12
        }
      ]
    },
    {
      "cell_type": "code",
      "metadata": {
        "id": "O9amh_gxguVg"
      },
      "source": [
        "# create test dataset\n",
        "test_data = scaled_data[training_data_len-60:,:]\n",
        "x_test = []\n",
        "y_test = dataset[training_data_len:,:]\n",
        "for i in range(60, len(test_data)):\n",
        "    x_test.append(test_data[i-60:i,0])\n",
        "\n",
        "# Convert the x_test set to a numpy array\n",
        "x_test = np.array(x_test)\n",
        "\n",
        "# Reshape the data into 3-dimensional form (no of samples, no of time steps, no of features) the shape accepted by LSTM\n",
        "x_test = np.reshape(x_test, (x_test.shape[0], x_test.shape[1], 1))"
      ],
      "execution_count": 13,
      "outputs": []
    },
    {
      "cell_type": "markdown",
      "metadata": {
        "id": "78oM_6ANjbEK"
      },
      "source": [
        "# **Model Testing**"
      ]
    },
    {
      "cell_type": "code",
      "metadata": {
        "id": "lPWvbv-NihNT",
        "outputId": "62818ef1-100f-4174-b8fd-35fcab762588",
        "colab": {
          "base_uri": "https://localhost:8080/",
          "height": 34
        }
      },
      "source": [
        "# Getting the models to predict price values\n",
        "prediction = model.predict(x_test)\n",
        "\n",
        "# undo normalization\n",
        "prediction = scaler.inverse_transform(prediction)\n",
        "\n",
        "# Measure the model assessment for accuracy\n",
        "# Value of 0 means the model predicting value matching the actual value from the test dataset perfectly; the lower the value the better the model performed.\n",
        "# there are mnay metrics to value the performance of the model. Root Mean Square Error (RMSE) is used here.\n",
        "# Calculate the value of RMSE as follows:\n",
        "rmse = np.sqrt(np.mean(prediction-y_test)**2)\n",
        "print(\"RMSE Value: \", rmse)"
      ],
      "execution_count": 14,
      "outputs": [
        {
          "output_type": "stream",
          "text": [
            "RMSE Value:  3.0969446927107214\n"
          ],
          "name": "stdout"
        }
      ]
    },
    {
      "cell_type": "markdown",
      "metadata": {
        "id": "S8SEhb6DmSup"
      },
      "source": [
        "# **Data testing**\n",
        "* Model validation completed with acceptable prediction accuracy, data testing is launching now."
      ]
    },
    {
      "cell_type": "code",
      "metadata": {
        "id": "kiCgZ0t0mVPm",
        "outputId": "6be14f33-0505-4698-eb66-ddc5f76df9bd",
        "colab": {
          "base_uri": "https://localhost:8080/",
          "height": 636
        }
      },
      "source": [
        "# Create and plot the data for a graph\n",
        "train=data[:training_data_len]\n",
        "valid=data[training_data_len:]\n",
        "valid['Prediction']=prediction\n",
        "\n",
        "# Visualise the data\n",
        "plt.figure(figsize=(16,8))\n",
        "plt.title('Stock Price Prediction Chart')\n",
        "plt.xlabel('Date',fontsize=18)\n",
        "plt.ylabel('Close Price (USD)',fontsize=18)\n",
        "plt.plot(train['Close'])\n",
        "plt.plot(valid[['Close','Prediction']])\n",
        "plt.legend(['Train','Val','Prediction'],loc='lower right')\n",
        "plt.show()"
      ],
      "execution_count": 17,
      "outputs": [
        {
          "output_type": "stream",
          "text": [
            "/usr/local/lib/python3.6/dist-packages/ipykernel_launcher.py:4: SettingWithCopyWarning: \n",
            "A value is trying to be set on a copy of a slice from a DataFrame.\n",
            "Try using .loc[row_indexer,col_indexer] = value instead\n",
            "\n",
            "See the caveats in the documentation: https://pandas.pydata.org/pandas-docs/stable/user_guide/indexing.html#returning-a-view-versus-a-copy\n",
            "  after removing the cwd from sys.path.\n"
          ],
          "name": "stderr"
        },
        {
          "output_type": "display_data",
          "data": {
            "image/png": "[encoded data removed]",
            "text/plain": [
              "<Figure size 1152x576 with 1 Axes>"
            ]
          },
          "metadata": {
            "tags": [],
            "needs_background": "light"
          }
        }
      ]
    },
    {
      "cell_type": "code",
      "metadata": {
        "id": "ZNUwt3mSmv8h",
        "outputId": "02204666-defb-43e9-a21c-8b4094bbdf4e",
        "colab": {
          "base_uri": "https://localhost:8080/",
          "height": 450
        }
      },
      "source": [
        "# Display the actual (valid) and predicted prices\n",
        "valid"
      ],
      "execution_count": 18,
      "outputs": [
        {
          "output_type": "execute_result",
          "data": {
            "text/html": [
              "<div>\n",
              "<style scoped>\n",
              "    .dataframe tbody tr th:only-of-type {\n",
              "        vertical-align: middle;\n",
              "    }\n",
              "\n",
              "    .dataframe tbody tr th {\n",
              "        vertical-align: top;\n",
              "    }\n",
              "\n",
              "    .dataframe thead th {\n",
              "        text-align: right;\n",
              "    }\n",
              "</style>\n",
              "<table border=\"1\" class=\"dataframe\">\n",
              "  <thead>\n",
              "    <tr style=\"text-align: right;\">\n",
              "      <th></th>\n",
              "      <th>Close</th>\n",
              "      <th>Prediction</th>\n",
              "    </tr>\n",
              "    <tr>\n",
              "      <th>Date</th>\n",
              "      <th></th>\n",
              "      <th></th>\n",
              "    </tr>\n",
              "  </thead>\n",
              "  <tbody>\n",
              "    <tr>\n",
              "      <th>2019-01-24</th>\n",
              "      <td>38.174999</td>\n",
              "      <td>37.069088</td>\n",
              "    </tr>\n",
              "    <tr>\n",
              "      <th>2019-01-25</th>\n",
              "      <td>39.439999</td>\n",
              "      <td>36.710396</td>\n",
              "    </tr>\n",
              "    <tr>\n",
              "      <th>2019-01-28</th>\n",
              "      <td>39.075001</td>\n",
              "      <td>37.968334</td>\n",
              "    </tr>\n",
              "    <tr>\n",
              "      <th>2019-01-29</th>\n",
              "      <td>38.669998</td>\n",
              "      <td>37.541176</td>\n",
              "    </tr>\n",
              "    <tr>\n",
              "      <th>2019-01-30</th>\n",
              "      <td>41.312500</td>\n",
              "      <td>37.240288</td>\n",
              "    </tr>\n",
              "    <tr>\n",
              "      <th>...</th>\n",
              "      <td>...</td>\n",
              "      <td>...</td>\n",
              "    </tr>\n",
              "    <tr>\n",
              "      <th>2020-10-19</th>\n",
              "      <td>115.980003</td>\n",
              "      <td>113.159775</td>\n",
              "    </tr>\n",
              "    <tr>\n",
              "      <th>2020-10-20</th>\n",
              "      <td>117.510002</td>\n",
              "      <td>110.142418</td>\n",
              "    </tr>\n",
              "    <tr>\n",
              "      <th>2020-10-21</th>\n",
              "      <td>116.870003</td>\n",
              "      <td>112.149155</td>\n",
              "    </tr>\n",
              "    <tr>\n",
              "      <th>2020-10-22</th>\n",
              "      <td>115.750000</td>\n",
              "      <td>110.918083</td>\n",
              "    </tr>\n",
              "    <tr>\n",
              "      <th>2020-10-23</th>\n",
              "      <td>115.040001</td>\n",
              "      <td>110.101852</td>\n",
              "    </tr>\n",
              "  </tbody>\n",
              "</table>\n",
              "<p>443 rows × 2 columns</p>\n",
              "</div>"
            ],
            "text/plain": [
              "                 Close  Prediction\n",
              "Date                              \n",
              "2019-01-24   38.174999   37.069088\n",
              "2019-01-25   39.439999   36.710396\n",
              "2019-01-28   39.075001   37.968334\n",
              "2019-01-29   38.669998   37.541176\n",
              "2019-01-30   41.312500   37.240288\n",
              "...                ...         ...\n",
              "2020-10-19  115.980003  113.159775\n",
              "2020-10-20  117.510002  110.142418\n",
              "2020-10-21  116.870003  112.149155\n",
              "2020-10-22  115.750000  110.918083\n",
              "2020-10-23  115.040001  110.101852\n",
              "\n",
              "[443 rows x 2 columns]"
            ]
          },
          "metadata": {
            "tags": []
          },
          "execution_count": 18
        }
      ]
    },
    {
      "cell_type": "code",
      "metadata": {
        "id": "nAvvwLRD4eKB",
        "outputId": "27928f83-74cf-47fd-99ce-c8317cc43ce0",
        "colab": {
          "base_uri": "https://localhost:8080/",
          "height": 34
        }
      },
      "source": [
        "# Get the quote \n",
        "apple_quote=web.DataReader('AAPL',data_source='yahoo',start='2012-01-01',end='2020-10-23')\n",
        "# Create a new dataframe\n",
        "new_df=apple_quote.filter(['Close'])\n",
        "# Get the last 60 days of closing price\n",
        "last_60_days=new_df[-60:].values\n",
        "# Scale the data to be values between 0 to 1\n",
        "last_60_days_scaled=scaler.transform(last_60_days)\n",
        "# Create an empty list\n",
        "x_test1=[]\n",
        "# Append the past 60 days\n",
        "x_test1.append(last_60_days_scaled)\n",
        "# Convert the x_test1 dataset to a numpy array\n",
        "x_test1=np.array(x_test1)\n",
        "# Reshape the data\n",
        "x_test1=np.reshape(x_test1,(x_test1.shape[0],x_test1.shape[1],1))\n",
        "# Get the predicted scaled price\n",
        "pred_price=model.predict(x_test1)\n",
        "# Undo the scaling /normalisation\n",
        "pred_price=scaler.inverse_transform(pred_price)\n",
        "print(pred_price)"
      ],
      "execution_count": 19,
      "outputs": [
        {
          "output_type": "stream",
          "text": [
            "[[109.442184]]\n"
          ],
          "name": "stdout"
        }
      ]
    },
    {
      "cell_type": "code",
      "metadata": {
        "id": "ng4VB6zL4gz_",
        "outputId": "589c2568-db19-40b6-ffef-bd3c41772e1b",
        "colab": {
          "base_uri": "https://localhost:8080/",
          "height": 68
        }
      },
      "source": [
        "# Extract the actual price of APPLE on a particular day\n",
        "apple_quote_now=web.DataReader('AAPL',data_source='yahoo',start='2020-10-23',end='2020-10-23')\n",
        "print(\"APPLE price for the date (USD):\",apple_quote_now['Close'])"
      ],
      "execution_count": 20,
      "outputs": [
        {
          "output_type": "stream",
          "text": [
            "APPLE price for the date (USD): Date\n",
            "2020-10-23    115.040001\n",
            "Name: Close, dtype: float64\n"
          ],
          "name": "stdout"
        }
      ]
    }
  ]
}