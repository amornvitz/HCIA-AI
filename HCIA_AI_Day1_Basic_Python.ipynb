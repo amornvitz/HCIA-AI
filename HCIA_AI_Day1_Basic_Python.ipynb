{
  "nbformat": 4,
  "nbformat_minor": 0,
  "metadata": {
    "colab": {
      "name": "HCIA-AI-Day1-Basic Python.ipynb",
      "provenance": [],
      "authorship_tag": "ABX9TyPKHS4W2z+SiD4vWwxmHWZb",
      "include_colab_link": true
    },
    "kernelspec": {
      "name": "python3",
      "display_name": "Python 3"
    }
  },
  "cells": [
    {
      "cell_type": "markdown",
      "metadata": {
        "id": "view-in-github",
        "colab_type": "text"
      },
      "source": [
        "<a href=\"https://colab.research.google.com/github/amornvitz/HCIA-AI/blob/main/HCIA_AI_Day1_Basic_Python.ipynb\" target=\"_parent\"><img src=\"https://colab.research.google.com/assets/colab-badge.svg\" alt=\"Open In Colab\"/></a>"
      ]
    },
    {
      "cell_type": "markdown",
      "metadata": {
        "id": "2AapigiMB-vo"
      },
      "source": [
        "# **Python Introduction to Numbers**\n",
        "we can practise the common features of Python Data types, Variables, list, tuples etc"
      ]
    },
    {
      "cell_type": "code",
      "metadata": {
        "id": "7soTIiFqB_TA",
        "outputId": "f6cbbd73-f6d6-4d52-d6e9-fe644cef866b",
        "colab": {
          "base_uri": "https://localhost:8080/",
          "height": 51
        }
      },
      "source": [
        "print('Welcome to Python 3')\n",
        "x=\"Welcome to HCIA AI Intro course\"\n",
        "print(x)"
      ],
      "execution_count": 2,
      "outputs": [
        {
          "output_type": "stream",
          "text": [
            "Welcome to Python 3\n",
            "Welcome to HCIA AI Intro course\n"
          ],
          "name": "stdout"
        }
      ]
    },
    {
      "cell_type": "code",
      "metadata": {
        "id": "y64txeNECBzc",
        "outputId": "fedc959d-300f-48d6-ad6d-5d3d255eb80e",
        "colab": {
          "base_uri": "https://localhost:8080/",
          "height": 68
        }
      },
      "source": [
        "# test arithmetric operations\n",
        "# Define variables - a,b,c\n",
        "a = 100\n",
        "b = 50\n",
        "c = 20\n",
        "\n",
        "print(a*b*c)\n",
        "print(a*3/(b))\n",
        "print(int(a*3/(b)))"
      ],
      "execution_count": 3,
      "outputs": [
        {
          "output_type": "stream",
          "text": [
            "100000\n",
            "6.0\n",
            "6\n"
          ],
          "name": "stdout"
        }
      ]
    },
    {
      "cell_type": "code",
      "metadata": {
        "id": "ns1bXTNMCPa5",
        "outputId": "fba7511e-59fb-4e19-c4d9-a23095a3feec",
        "colab": {
          "base_uri": "https://localhost:8080/",
          "height": 153
        }
      },
      "source": [
        "# test List, Tuple, Set\n",
        "y=[\"Ascend\",\"Atlas\",\"Mindspore\",\"ModelArts\"]\n",
        "print(y)\n",
        "print(type(y))\n",
        "z=('Ascend','Atlas','Mindspore','ModelArts')\n",
        "print(z)\n",
        "print(type(z))\n",
        "w={\"Processor\":\"Ascend\",\"Framework\":\"Mindspore\"}\n",
        "print(w)\n",
        "print(type(w))\n",
        "u={\"Ascend\",\"Atlas\",\"Mindspore\",\"ModelArts\"}\n",
        "print(u)\n",
        "print(type(u))"
      ],
      "execution_count": 5,
      "outputs": [
        {
          "output_type": "stream",
          "text": [
            "['Ascend', 'Atlas', 'Mindspore', 'ModelArts']\n",
            "<class 'list'>\n",
            "('Ascend', 'Atlas', 'Mindspore', 'ModelArts')\n",
            "<class 'tuple'>\n",
            "{'Processor': 'Ascend', 'Framework': 'Mindspore'}\n",
            "<class 'dict'>\n",
            "{'Mindspore', 'Ascend', 'ModelArts', 'Atlas'}\n",
            "<class 'set'>\n"
          ],
          "name": "stdout"
        }
      ]
    },
    {
      "cell_type": "markdown",
      "metadata": {
        "id": "bwC8JqB5Ca4o"
      },
      "source": [
        "# Difference between Set, Tuple, List and Dictionary\n",
        "List - ordered and changeable, duplicate items allowed\n",
        "Tuple - ordered and unchangeable, duplicate items allowed\n",
        "Set - unordered and unchangeable, no duplicate item\n",
        "Dictionary - unordered, changeable and no duplicate items"
      ]
    },
    {
      "cell_type": "code",
      "metadata": {
        "id": "D_6JxEVFCbqS",
        "outputId": "6838aab3-28be-4dd6-f569-f6d0a36f7b13",
        "colab": {
          "base_uri": "https://localhost:8080/",
          "height": 187
        }
      },
      "source": [
        "# List class\n",
        "mylist=[\"Ascend\",\"Mindspore\",\"Atlas\",\"ModelArts\",\"Atlas\",\"Ascend\"]\n",
        "print(mylist)\n",
        "print(mylist[0])\n",
        "print(mylist[3])\n",
        "print(mylist[-1])\n",
        "print(mylist[1:3])\n",
        "print(mylist[0:3])\n",
        "print(mylist[0:4])\n",
        "print(mylist[1:])\n",
        "print(mylist[:2])\n",
        "print(mylist[-3:-1])"
      ],
      "execution_count": 6,
      "outputs": [
        {
          "output_type": "stream",
          "text": [
            "['Ascend', 'Mindspore', 'Atlas', 'ModelArts', 'Atlas', 'Ascend']\n",
            "Ascend\n",
            "ModelArts\n",
            "Ascend\n",
            "['Mindspore', 'Atlas']\n",
            "['Ascend', 'Mindspore', 'Atlas']\n",
            "['Ascend', 'Mindspore', 'Atlas', 'ModelArts']\n",
            "['Mindspore', 'Atlas', 'ModelArts', 'Atlas', 'Ascend']\n",
            "['Ascend', 'Mindspore']\n",
            "['ModelArts', 'Atlas']\n"
          ],
          "name": "stdout"
        }
      ]
    },
    {
      "cell_type": "code",
      "metadata": {
        "id": "bE7ueGQlCeuW",
        "outputId": "bee87fee-c08e-4166-883e-79648402fb26",
        "colab": {
          "base_uri": "https://localhost:8080/",
          "height": 170
        }
      },
      "source": [
        "# Tuple class\n",
        "mytuple=(\"Ascend\",\"Mindspore\",\"ModelArts\",\"Atlas\",\"Ascend\")\n",
        "print(mytuple)\n",
        "print(mytuple[0])\n",
        "print(mytuple[3])\n",
        "print(mytuple[-1])\n",
        "print(mytuple[1:3])\n",
        "print(mytuple[0:3])\n",
        "print(mytuple[0:4])\n",
        "print(mytuple[1:])\n",
        "print(mytuple[:2])"
      ],
      "execution_count": 7,
      "outputs": [
        {
          "output_type": "stream",
          "text": [
            "('Ascend', 'Mindspore', 'ModelArts', 'Atlas', 'Ascend')\n",
            "Ascend\n",
            "Atlas\n",
            "Ascend\n",
            "('Mindspore', 'ModelArts')\n",
            "('Ascend', 'Mindspore', 'ModelArts')\n",
            "('Ascend', 'Mindspore', 'ModelArts', 'Atlas')\n",
            "('Mindspore', 'ModelArts', 'Atlas', 'Ascend')\n",
            "('Ascend', 'Mindspore')\n"
          ],
          "name": "stdout"
        }
      ]
    },
    {
      "cell_type": "markdown",
      "metadata": {
        "id": "4XlYqVFJCnAA"
      },
      "source": [
        "# Python Array\n",
        "Array - special variable which can hold more than one value at a time"
      ]
    },
    {
      "cell_type": "code",
      "metadata": {
        "id": "3L3NgtseCnT3",
        "outputId": "0d8f466f-8464-4177-bba7-84ced2141915",
        "colab": {
          "base_uri": "https://localhost:8080/",
          "height": 289
        }
      },
      "source": [
        "cars=[\"Honda\",\"Toyota\",\"Merz\",\"BMW\",\"Hyundai\",\"Ford\",\"Ferrari\"]\n",
        "print(cars)\n",
        "ai1=\"Tensorflow\"\n",
        "ai2=\"Pytorch\"\n",
        "ai3=\"Mindspore\"\n",
        "ai4=\"Caffe\"\n",
        "c=cars[0:2]\n",
        "c1=len(cars)\n",
        "print(c)\n",
        "print(ai2)\n",
        "print(c1)\n",
        "# y is to define the list of items in vertical\n",
        "for y in cars:\n",
        "  print(y)\n",
        "cars.append(\"Mitsubishi\")\n",
        "cars.append(\"Honda\")\n",
        "c1=len(cars)\n",
        "print(c1)\n",
        "print(cars)\n",
        "cars.pop(8)\n",
        "cars.remove(\"Ferrari\")\n",
        "print(cars)\n",
        "cars.insert(0,\"Honda\")\n",
        "cars.insert(1,\"Honda\")\n",
        "z=cars.count(\"Honda\")\n",
        "print(z)\n",
        "print(cars)"
      ],
      "execution_count": 8,
      "outputs": [
        {
          "output_type": "stream",
          "text": [
            "['Honda', 'Toyota', 'Merz', 'BMW', 'Hyundai', 'Ford', 'Ferrari']\n",
            "['Honda', 'Toyota']\n",
            "Pytorch\n",
            "7\n",
            "Honda\n",
            "Toyota\n",
            "Merz\n",
            "BMW\n",
            "Hyundai\n",
            "Ford\n",
            "Ferrari\n",
            "9\n",
            "['Honda', 'Toyota', 'Merz', 'BMW', 'Hyundai', 'Ford', 'Ferrari', 'Mitsubishi', 'Honda']\n",
            "['Honda', 'Toyota', 'Merz', 'BMW', 'Hyundai', 'Ford', 'Mitsubishi']\n",
            "3\n",
            "['Honda', 'Honda', 'Honda', 'Toyota', 'Merz', 'BMW', 'Hyundai', 'Ford', 'Mitsubishi']\n"
          ],
          "name": "stdout"
        }
      ]
    },
    {
      "cell_type": "code",
      "metadata": {
        "id": "cTkuK265CpS1",
        "outputId": "26c959f0-2fbb-466f-f640-76dc72152308",
        "colab": {
          "base_uri": "https://localhost:8080/",
          "height": 153
        }
      },
      "source": [
        "# Python Numbers\n",
        "x=100\n",
        "y=47298340209400308403.3902\n",
        "z=-88888888888888888888888888888888888\n",
        "w=10j\n",
        "print(x)\n",
        "print(type(x))\n",
        "print(y)\n",
        "print(type(y))\n",
        "print(z)\n",
        "print(type(z))\n",
        "print(w)\n",
        "print(type(w))"
      ],
      "execution_count": 9,
      "outputs": [
        {
          "output_type": "stream",
          "text": [
            "100\n",
            "<class 'int'>\n",
            "4.729834020940031e+19\n",
            "<class 'float'>\n",
            "-88888888888888888888888888888888888\n",
            "<class 'int'>\n",
            "10j\n",
            "<class 'complex'>\n"
          ],
          "name": "stdout"
        }
      ]
    },
    {
      "cell_type": "code",
      "metadata": {
        "id": "vZfm5nvgCsCH",
        "outputId": "07ce231e-7e9d-498b-e628-89c49fbf9cc6",
        "colab": {
          "base_uri": "https://localhost:8080/",
          "height": 85
        }
      },
      "source": [
        "# Python Number Conversion\n",
        "x=100\n",
        "y=800000000000000000000.1752848493\n",
        "z=-88888888888888888888888888888888888\n",
        "w=10j\n",
        "x1=float(x)\n",
        "y1=int(y)\n",
        "z1=complex(z)\n",
        "print(x1)\n",
        "print(y1)\n",
        "print(z1)\n",
        "print(w)"
      ],
      "execution_count": 10,
      "outputs": [
        {
          "output_type": "stream",
          "text": [
            "100.0\n",
            "800000000000000000000\n",
            "(-8.888888888888888e+34+0j)\n",
            "10j\n"
          ],
          "name": "stdout"
        }
      ]
    },
    {
      "cell_type": "code",
      "metadata": {
        "id": "SfS1q1WRCt--",
        "outputId": "f76bb7dc-9ffc-4c4e-e21f-9eb0eac79552",
        "colab": {
          "base_uri": "https://localhost:8080/",
          "height": 51
        }
      },
      "source": [
        "# Random Number ; the value range will be picked randomly without any sequence in order\n",
        "import random\n",
        "print(random.randrange(1,5))\n",
        "print(random.randrange(10,100))"
      ],
      "execution_count": 11,
      "outputs": [
        {
          "output_type": "stream",
          "text": [
            "2\n",
            "30\n"
          ],
          "name": "stdout"
        }
      ]
    },
    {
      "cell_type": "code",
      "metadata": {
        "id": "f63Ge1OPCyrB",
        "outputId": "a35921be-03d6-4271-956d-dd10285499ee",
        "colab": {
          "base_uri": "https://localhost:8080/",
          "height": 136
        }
      },
      "source": [
        "# Python Math function\n",
        "# Some math functions need Math module, import the Math\n",
        "import math\n",
        "x=min(100,200,300)\n",
        "y=max(100,200,300)\n",
        "z=max(-10,-20,-30)\n",
        "print(x)\n",
        "print(y)\n",
        "print(z)\n",
        "a=10\n",
        "b=5\n",
        "c=2\n",
        "print(pow(a,b))\n",
        "x1=math.sqrt(10000)\n",
        "x2=math.ceil(1.8)\n",
        "x3=math.floor(1.8)\n",
        "print(int(x1))\n",
        "print(x2)\n",
        "print(x3)"
      ],
      "execution_count": 12,
      "outputs": [
        {
          "output_type": "stream",
          "text": [
            "100\n",
            "300\n",
            "-10\n",
            "100000\n",
            "100\n",
            "2\n",
            "1\n"
          ],
          "name": "stdout"
        }
      ]
    },
    {
      "cell_type": "code",
      "metadata": {
        "id": "Y-5QJN90C0oD"
      },
      "source": [
        ""
      ],
      "execution_count": null,
      "outputs": []
    }
  ]
}