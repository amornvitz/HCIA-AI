{
  "nbformat": 4,
  "nbformat_minor": 0,
  "metadata": {
    "colab": {
      "name": "HCIA-AI-Day1-Numpy.ipynb",
      "provenance": [],
      "collapsed_sections": [],
      "include_colab_link": true
    },
    "kernelspec": {
      "name": "python3",
      "display_name": "Python 3"
    }
  },
  "cells": [
    {
      "cell_type": "markdown",
      "metadata": {
        "id": "view-in-github",
        "colab_type": "text"
      },
      "source": [
        "<a href=\"https://colab.research.google.com/github/amornvitz/HCIA-AI/blob/main/HCIA_AI_Day1_Numpy.ipynb\" target=\"_parent\"><img src=\"https://colab.research.google.com/assets/colab-badge.svg\" alt=\"Open In Colab\"/></a>"
      ]
    },
    {
      "cell_type": "markdown",
      "metadata": {
        "id": "QPGO3dzfgu17"
      },
      "source": [
        "# Numpy = Numerical Python\n",
        "NumPy is a python library used for working with arrays.\n",
        "It also has functions for working in domain of linear algebra, fourier transform, and matrices.\n",
        "NumPy aims to provide an array object that is up to 50x faster that traditional Python lists.\n",
        "NumPy is a Python library and is written partially in Python, but most of the parts that require fast computation are written in C or C++."
      ]
    },
    {
      "cell_type": "code",
      "metadata": {
        "id": "_5NC2FedgZsF",
        "outputId": "e6445da9-b63f-4260-9d7c-ad44a79264d5",
        "colab": {
          "base_uri": "https://localhost:8080/",
          "height": 85
        }
      },
      "source": [
        "# Import Numpy in your application\n",
        "import numpy as np\n",
        "# Create 1-D array\n",
        "ar0=np.array([100])\n",
        "ar=np.array([1,2,3,4,5,6,7,8,9])\n",
        "print(ar)\n",
        "print(ar0)\n",
        "# NumPy is used to work with arrays. The array object in NumPy is called ndarray.\n",
        "print(type(ar))\n",
        "# Check version\n",
        "print(np.__version__)"
      ],
      "execution_count": 1,
      "outputs": [
        {
          "output_type": "stream",
          "text": [
            "[1 2 3 4 5 6 7 8 9]\n",
            "[100]\n",
            "<class 'numpy.ndarray'>\n",
            "1.18.5\n"
          ],
          "name": "stdout"
        }
      ]
    },
    {
      "cell_type": "code",
      "metadata": {
        "id": "TITIQrVEoTn4",
        "outputId": "765ae1bd-93d3-4d65-b272-039b24352c47",
        "colab": {
          "base_uri": "https://localhost:8080/",
          "height": 187
        }
      },
      "source": [
        "# Create multi-dimensional arrays\n",
        "ar2=np.array([[1,2,3],[4,5,6]])\n",
        "print(ar2)\n",
        "ar3=np.array([[1,2],[3,4],[5,6]])\n",
        "print(ar3)\n",
        "ar3i=np.array([[1],[2],[3],[4],[5]])\n",
        "print(ar3i)"
      ],
      "execution_count": 2,
      "outputs": [
        {
          "output_type": "stream",
          "text": [
            "[[1 2 3]\n",
            " [4 5 6]]\n",
            "[[1 2]\n",
            " [3 4]\n",
            " [5 6]]\n",
            "[[1]\n",
            " [2]\n",
            " [3]\n",
            " [4]\n",
            " [5]]\n"
          ],
          "name": "stdout"
        }
      ]
    },
    {
      "cell_type": "code",
      "metadata": {
        "id": "BcB97UACpZbi",
        "outputId": "7c1a73f5-46e7-45d7-82a4-4aaa3f825d99",
        "colab": {
          "base_uri": "https://localhost:8080/",
          "height": 527
        }
      },
      "source": [
        "# Check for the number of dimensions the arrays have\n",
        "a = np.array(42)\n",
        "b = np.array([1, 2, 3, 4, 5])\n",
        "c = np.array([[1, 2, 3], [4, 5, 6]])\n",
        "d = np.array([[[1, 2, 3], [4, 5, 6]], [[1, 2, 3], [4, 5, 6]]])\n",
        "e = np.array([[[10,11],[20,21]],[[30,31],[40,41]],[[50,51],[60,61]]])\n",
        "f = np.array([[[10,11],[20,21],[30,31]],[[40,41],[50,51],[60,61]]])\n",
        "print(a.ndim)\n",
        "print(b.ndim)\n",
        "print(c.ndim)\n",
        "print(d.ndim)\n",
        "print(e.ndim)\n",
        "print(f.ndim)\n",
        "print(b)\n",
        "print(c)\n",
        "print(d)\n",
        "print(e)\n",
        "print(np.__version__)\n",
        "print(f)"
      ],
      "execution_count": 3,
      "outputs": [
        {
          "output_type": "stream",
          "text": [
            "0\n",
            "1\n",
            "2\n",
            "3\n",
            "3\n",
            "3\n",
            "[1 2 3 4 5]\n",
            "[[1 2 3]\n",
            " [4 5 6]]\n",
            "[[[1 2 3]\n",
            "  [4 5 6]]\n",
            "\n",
            " [[1 2 3]\n",
            "  [4 5 6]]]\n",
            "[[[10 11]\n",
            "  [20 21]]\n",
            "\n",
            " [[30 31]\n",
            "  [40 41]]\n",
            "\n",
            " [[50 51]\n",
            "  [60 61]]]\n",
            "1.18.5\n",
            "[[[10 11]\n",
            "  [20 21]\n",
            "  [30 31]]\n",
            "\n",
            " [[40 41]\n",
            "  [50 51]\n",
            "  [60 61]]]\n"
          ],
          "name": "stdout"
        }
      ]
    },
    {
      "cell_type": "code",
      "metadata": {
        "id": "P2CYhnTfuUEW",
        "outputId": "7f1c7e38-3efa-4f06-a40d-db7c6f22d3c0",
        "colab": {
          "base_uri": "https://localhost:8080/",
          "height": 153
        }
      },
      "source": [
        "# Extract value from the array\n",
        "ar4=np.array([\"Atlas\",\"Ascend\",\"Mindspore\",\"CNN\"])\n",
        "# Extract the second value\n",
        "print(ar4[1])\n",
        "# extract the values from No. 2 to the last\n",
        "print(ar4[1:])\n",
        "# extract the values from N0. 2 to the fourth but excluding the fourth.\n",
        "print(ar4[1:3])\n",
        "ar5=np.array([1,2,3,4,5,6,7,8,9,10,11,12,13,14])\n",
        "# extract all values with a step of 2\n",
        "print(ar5[::2])\n",
        "# extract all values with a step of 3\n",
        "print(ar5[::3])\n",
        "\n",
        "# Slicing 2-D arrays\n",
        "ar6=np.array([[\"Mindspore\",\"Atlas\",\"Ascend\",\"CNN\"],[\"Tensorflow\",\"Pytorch\",\"Mindspore\",\"Theano\"]])\n",
        "# print(ar6[second element,from index 0 to 2])\n",
        "print(ar6[1,0:2])\n",
        "print(ar6[0,1:3])\n",
        "# print(ar6[from index 0 to 2, pick up index 1])\n",
        "print(ar6[0:2,1])\n"
      ],
      "execution_count": 4,
      "outputs": [
        {
          "output_type": "stream",
          "text": [
            "Ascend\n",
            "['Ascend' 'Mindspore' 'CNN']\n",
            "['Ascend' 'Mindspore']\n",
            "[ 1  3  5  7  9 11 13]\n",
            "[ 1  4  7 10 13]\n",
            "['Tensorflow' 'Pytorch']\n",
            "['Atlas' 'Ascend']\n",
            "['Atlas' 'Pytorch']\n"
          ],
          "name": "stdout"
        }
      ]
    },
    {
      "cell_type": "markdown",
      "metadata": {
        "id": "0ilvKDiayVrL"
      },
      "source": [
        "# Numpy Data Types\n",
        "Create data types with Numpy\n",
        "dtype for integer(i), string(S), float(f) , boolean(b), datetime(M), complex float(c), etc"
      ]
    },
    {
      "cell_type": "code",
      "metadata": {
        "id": "-LYGMNtZygDb",
        "outputId": "8c8ce9d1-9b29-4f6c-b515-b33f1291c015",
        "colab": {
          "base_uri": "https://localhost:8080/",
          "height": 136
        }
      },
      "source": [
        "import numpy as np\n",
        "arr=np.array([1,2,3,4,5],dtype=\"i\")\n",
        "print(arr)\n",
        "print(type(arr))\n",
        "print(arr.dtype)\n",
        "arr=np.array([1,2,3,4,5],dtype=\"f\")\n",
        "print(arr)\n",
        "print(arr.dtype)\n",
        "arr=np.array([1,2,3,4,5],dtype=\"i8\")\n",
        "print(arr.dtype)\n",
        "print(arr)\n",
        "\n",
        "\n"
      ],
      "execution_count": 5,
      "outputs": [
        {
          "output_type": "stream",
          "text": [
            "[1 2 3 4 5]\n",
            "<class 'numpy.ndarray'>\n",
            "int32\n",
            "[1. 2. 3. 4. 5.]\n",
            "float32\n",
            "int64\n",
            "[1 2 3 4 5]\n"
          ],
          "name": "stdout"
        }
      ]
    },
    {
      "cell_type": "code",
      "metadata": {
        "id": "a8YFnFZ81-wj",
        "outputId": "615d2de8-8098-48f9-a623-7e9a1925a8ba",
        "colab": {
          "base_uri": "https://localhost:8080/",
          "height": 68
        }
      },
      "source": [
        "# Change the data type from float to integer\n",
        "arr=np.array([1.2,1.8,2.4,2.9,3.1,4.8,5.1,5.9])\n",
        "print(arr.dtype)\n",
        "conarr=arr.astype(int)\n",
        "print(conarr)\n",
        "print(conarr.dtype)"
      ],
      "execution_count": 6,
      "outputs": [
        {
          "output_type": "stream",
          "text": [
            "float64\n",
            "[1 1 2 2 3 4 5 5]\n",
            "int64\n"
          ],
          "name": "stdout"
        }
      ]
    },
    {
      "cell_type": "markdown",
      "metadata": {
        "id": "SLsFoUFI3C2H"
      },
      "source": [
        "# Check the shape of dimensional array"
      ]
    },
    {
      "cell_type": "code",
      "metadata": {
        "id": "M0lm8gFH3UVK",
        "outputId": "e7304751-ce66-4bee-ba06-13176cd907e3",
        "colab": {
          "base_uri": "https://localhost:8080/",
          "height": 221
        }
      },
      "source": [
        "a = np.array(42)\n",
        "b = np.array([1, 2, 3, 4, 5])\n",
        "c = np.array([[1, 2, 3], [4, 5, 6]])\n",
        "d = np.array([[[1, 2, 3], [4, 5, 6]], [[1, 2, 3], [4, 5, 6]]])\n",
        "e = np.array([[[10,11],[20,21]],[[30,31],[40,41]],[[50,51],[60,61]]])\n",
        "f = np.array([[[10,11],[20,21],[30,31]],[[40,41],[50,51],[60,61]]])\n",
        "print(\"No. of dimension for a:\",a.ndim)\n",
        "print(\"Shape for a:\",a.shape)\n",
        "print(\"No. of dimension for b:\",b.ndim)\n",
        "print(\"Shape for b:\",b.shape)\n",
        "print(\"No. of dimension for c:\",c.ndim)\n",
        "print(\"Shape for c:\",c.shape)\n",
        "print(\"No. of dimension for d:\",d.ndim)\n",
        "print(\"Shape for d:\",d.shape)\n",
        "print(\"No. of dimension for e:\",e.ndim)\n",
        "print(\"Shape for e:\",e.shape)\n",
        "print(\"No. of dimension for f:\",f.ndim)\n",
        "print(\"Shape for f:\",f.shape)"
      ],
      "execution_count": 7,
      "outputs": [
        {
          "output_type": "stream",
          "text": [
            "No. of dimension for a: 0\n",
            "Shape for a: ()\n",
            "No. of dimension for b: 1\n",
            "Shape for b: (5,)\n",
            "No. of dimension for c: 2\n",
            "Shape for c: (2, 3)\n",
            "No. of dimension for d: 3\n",
            "Shape for d: (2, 2, 3)\n",
            "No. of dimension for e: 3\n",
            "Shape for e: (3, 2, 2)\n",
            "No. of dimension for f: 3\n",
            "Shape for f: (2, 3, 2)\n"
          ],
          "name": "stdout"
        }
      ]
    },
    {
      "cell_type": "code",
      "metadata": {
        "id": "L3KtKa8bBGFZ",
        "outputId": "4be93760-2e8b-42fd-d3e7-f9492379f9b0",
        "colab": {
          "base_uri": "https://localhost:8080/",
          "height": 102
        }
      },
      "source": [
        "# Creating Numpy Arrays\n",
        "arr=np.array([1,2,3],ndmin=5)\n",
        "print(arr)\n",
        "print(\"shape of array:\",arr.shape)\n",
        "# it will create a 5 dimensions using a vector with values 1,2,3 and the last dimension has 3 values.\n",
        "\n",
        "arr2=np.array([[1,2,3],[4,5,6]])\n",
        "print(arr2)\n",
        "print(\"Shape of array:\",arr2.shape)\n",
        "# generate 2 dimensions with three elements inside each"
      ],
      "execution_count": 8,
      "outputs": [
        {
          "output_type": "stream",
          "text": [
            "[[[[[1 2 3]]]]]\n",
            "shape of array: (1, 1, 1, 1, 3)\n",
            "[[1 2 3]\n",
            " [4 5 6]]\n",
            "Shape of array: (2, 3)\n"
          ],
          "name": "stdout"
        }
      ]
    },
    {
      "cell_type": "markdown",
      "metadata": {
        "id": "upHsrJvQDpVh"
      },
      "source": [
        "# Array Reshaping\n",
        "changing the shape of an array\n",
        "by reshaping the array, we can add or remove dimensions or change the number of elements in each dimension.\n"
      ]
    },
    {
      "cell_type": "code",
      "metadata": {
        "id": "VQoMXz1SD-XN",
        "outputId": "f90b7700-e959-4fc1-d715-46a283fb7229",
        "colab": {
          "base_uri": "https://localhost:8080/",
          "height": 187
        }
      },
      "source": [
        "# Changing from 1-D to multi-D\n",
        "arr1d=np.array([1,2,3,4,5,6,7,8,9,10,11,12])\n",
        "print(arr1d)\n",
        "print(arr1d.shape)\n",
        "arr2d=arr1d.reshape(2,6)\n",
        "print(arr2d)\n",
        "arr6d=arr1d.reshape(6,2)\n",
        "print(arr6d)\n",
        "\n"
      ],
      "execution_count": 9,
      "outputs": [
        {
          "output_type": "stream",
          "text": [
            "[ 1  2  3  4  5  6  7  8  9 10 11 12]\n",
            "(12,)\n",
            "[[ 1  2  3  4  5  6]\n",
            " [ 7  8  9 10 11 12]]\n",
            "[[ 1  2]\n",
            " [ 3  4]\n",
            " [ 5  6]\n",
            " [ 7  8]\n",
            " [ 9 10]\n",
            " [11 12]]\n"
          ],
          "name": "stdout"
        }
      ]
    }
  ]
}